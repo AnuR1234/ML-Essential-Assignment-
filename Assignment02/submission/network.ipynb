{
 "cells": [
  {
   "cell_type": "code",
   "execution_count": 1,
   "id": "f81cac96",
   "metadata": {},
   "outputs": [],
   "source": [
    "import math\n",
    "import numpy as np\n",
    "import matplotlib.pyplot as plt"
   ]
  },
  {
   "cell_type": "markdown",
   "id": "49502c10",
   "metadata": {},
   "source": [
    "## Task 1: Hand-Crafted Network\n",
    "### Task 1.1: Neuron Definition\n",
    "First, we create a Neuron class taking a bias, list of weights, and activation function as a base.\n",
    "To demonstrate its functionality, we use the weighted average as default activation function, and run it with a simple test case."
   ]
  },
  {
   "cell_type": "code",
   "execution_count": 2,
   "id": "807641a3",
   "metadata": {},
   "outputs": [],
   "source": [
    "class Neuron:\n",
    "\n",
    "    def weighted_avg(values, params):\n",
    "        return np.mean(values * params)\n",
    "    \n",
    "    def __init__(self, bias=0.0, params=list(), afunc=weighted_avg):\n",
    "        self.bias = bias\n",
    "        self.params = np.asarray(params)\n",
    "        self.afunc = afunc\n",
    "    \n",
    "    def activate(self, inputs):\n",
    "        return self.bias + self.afunc(inputs, self.params)"
   ]
  },
  {
   "cell_type": "code",
   "execution_count": 3,
   "id": "4df75384",
   "metadata": {},
   "outputs": [
    {
     "name": "stdout",
     "output_type": "stream",
     "text": [
      "weighted_avg of [3, 2, 1] with weights [0.1 0.2 0.3] and bias 0.5 is 0.8333333333333333\n"
     ]
    }
   ],
   "source": [
    "neuron = Neuron(bias=0.5, params=[0.1, 0.2, 0.3])\n",
    "assert neuron.activate([3, 2, 1]) == 0.5 + (3 * 0.1 + 2 * 0.2 + 1 * 0.3) / 3\n",
    "print(\"weighted_avg of\", [3, 2, 1], \"with weights\", neuron.params, \"and bias\", neuron.bias, \"is\", neuron.activate([3, 2, 1]))"
   ]
  },
  {
   "cell_type": "markdown",
   "id": "a18614ca",
   "metadata": {},
   "source": [
    "Next, we define our three activation functions <code>logical_or</code>, <code>masked_or</code>, and <code>xnor</code> (\"Perfect match\") to use in our neuron.\n",
    "For <code>logical_or</code>, we only need the input data. For <code>masked_or</code> and <code>xnor</code>, we use the neuron parameters as bitmasks.\n",
    "\n",
    "To verify our implementation, we run a few simple test cases."
   ]
  },
  {
   "cell_type": "code",
   "execution_count": 4,
   "id": "c729c13f",
   "metadata": {},
   "outputs": [],
   "source": [
    "def logical_or(values, params):\n",
    "    return values.any()\n",
    "\n",
    "def masked_or(values, params):\n",
    "    return np.logical_and(values, params).any()\n",
    "\n",
    "def xnor(values, params):\n",
    "    return not np.logical_xor(values, params).any()"
   ]
  },
  {
   "cell_type": "code",
   "execution_count": 5,
   "id": "adc387ca",
   "metadata": {},
   "outputs": [
    {
     "name": "stdout",
     "output_type": "stream",
     "text": [
      "logical_or on [0 0 0] is False\n",
      "logical_or on [0 0 1] is True\n",
      "logical_or on [0 1 1] is True\n",
      "masked_or on [0 0 1] with mask [0 0 0] is False\n",
      "masked_or on [0 0 1] with mask [0 1 1] is True\n",
      "xnor on [0 0 1] and [0 0 0] is False\n",
      "xnor on [0 1 1] and [0 1 1] is True\n"
     ]
    }
   ],
   "source": [
    "list1 = np.array([0, 0, 0])\n",
    "list2 = np.array([0, 0, 1])\n",
    "list3 = np.array([0, 1, 1])\n",
    "\n",
    "assert logical_or(list1, list()) == 0\n",
    "print(\"logical_or on\", list1, \"is\", logical_or(list1, list()))\n",
    "assert logical_or(list2, list()) == 1\n",
    "print(\"logical_or on\", list2, \"is\", logical_or(list2, list()))\n",
    "assert logical_or(list3, list()) == 1\n",
    "print(\"logical_or on\", list3, \"is\", logical_or(list3, list()))\n",
    "\n",
    "assert masked_or(list2, list1) == 0\n",
    "print(\"masked_or on\", list2, \"with mask\", list1, \"is\", masked_or(list2, list1))\n",
    "assert masked_or(list2, list3) == 1\n",
    "print(\"masked_or on\", list2, \"with mask\", list3, \"is\", masked_or(list2, list3))\n",
    "\n",
    "assert xnor(list2, list3) == 0\n",
    "print(\"xnor on\", list2, \"and\", list1, \"is\", xnor(list2, list3))\n",
    "assert xnor(list3, list3) == 1\n",
    "print(\"xnor on\", list3, \"and\", list3, \"is\", xnor(list3, list3))"
   ]
  },
  {
   "cell_type": "markdown",
   "id": "6be47b02",
   "metadata": {},
   "source": [
    "To turn these activation functions into proper neurons, we now have to create a couple of neurons using these methods.\n",
    "To demonstrate their functionality, we will run the same test cases on these neurons.\n",
    "For these simple cases, the bias is always zero, and the output is only determined by the input (And the mask supplied through the <code>params</code> attribute)."
   ]
  },
  {
   "cell_type": "code",
   "execution_count": 6,
   "id": "38138846",
   "metadata": {},
   "outputs": [
    {
     "name": "stdout",
     "output_type": "stream",
     "text": [
      "logical_or neuron on [0 0 0] is 0.0\n",
      "logical_or neuron on [0 0 1] is 1.0\n",
      "logical_or neuron on [0 1 1] is 1.0\n",
      "masked_or neuron on [0 0 1] with mask [0 0 0] is 0.0\n",
      "masked_or neuron on [0 0 1] with mask [0 1 1] is 1.0\n",
      "xnor neuron on [0 0 1] and [0 0 0] is 0.0\n",
      "xnor neuron on [0 1 1] and [0 1 1] is 1.0\n"
     ]
    }
   ],
   "source": [
    "or_neuron = Neuron(afunc=logical_or)\n",
    "assert or_neuron.activate(list1) == 0\n",
    "print(\"logical_or neuron on\", list1, \"is\", or_neuron.activate(list1))\n",
    "assert or_neuron.activate(list2) == 1\n",
    "print(\"logical_or neuron on\", list2, \"is\", or_neuron.activate(list2))\n",
    "assert or_neuron.activate(list3) == 1\n",
    "print(\"logical_or neuron on\", list3, \"is\", or_neuron.activate(list3))\n",
    "\n",
    "masked_neuron_list1 = Neuron(params=list1, afunc=masked_or)\n",
    "masked_neuron_list3 = Neuron(params=list3, afunc=masked_or)\n",
    "assert masked_neuron_list1.activate(list2) == 0\n",
    "print(\"masked_or neuron on\", list2, \"with mask\", list1, \"is\", masked_neuron_list1.activate(list2))\n",
    "assert masked_neuron_list3.activate(list2) == 1\n",
    "print(\"masked_or neuron on\", list2, \"with mask\", list3, \"is\", masked_neuron_list3.activate(list2))\n",
    "\n",
    "xnor_neuron = Neuron(params=list3, afunc=xnor)\n",
    "assert xnor_neuron.activate(list2) == 0\n",
    "print(\"xnor neuron on\", list2, \"and\", list1, \"is\", xnor_neuron.activate(list2))\n",
    "assert xnor_neuron.activate(list3) == 1\n",
    "print(\"xnor neuron on\", list3, \"and\", list3, \"is\", xnor_neuron.activate(list3))"
   ]
  },
  {
   "cell_type": "markdown",
   "id": "8f84f78c",
   "metadata": {},
   "source": [
    "### Task 1.2: Network Creation\n",
    "The easiest way to model a hypercube of dimension <code>M</code> within one layer of neural network is to create one neuron per dimension, and using the neuron output (0 or 1) as coordinates in their respective dimension.\n",
    "To achieve that, every neuron in the first layer has to stricly map to a certain region of the input parameter space, ideally covering the entire parameter space.\n",
    "One solution would be to define a triangle region for each parameter using three line equations defined by <code>m</code> (Slope of the line), <code>t</code> (Offset from zero), and <code>s</code> (Sign of the inequality to differentiate between the two sides of the line)."
   ]
  },
  {
   "cell_type": "code",
   "execution_count": 7,
   "id": "55d1e536",
   "metadata": {},
   "outputs": [],
   "source": [
    "def are_coords_in_triangle(coords, triangles):\n",
    "    match = list()\n",
    "\n",
    "    for i in range(3):\n",
    "        above = triangles[3 * i + 2]\n",
    "        line = lambda x: triangles[3 * i] * x + triangles[3 * i + 1]\n",
    "\n",
    "        if above:\n",
    "            match.append(coords[1] > line(coords[0]))\n",
    "        else:\n",
    "            match.append(coords[1] <= line(coords[0]))\n",
    "\n",
    "    return np.all(match)"
   ]
  },
  {
   "cell_type": "markdown",
   "id": "d2c0a909",
   "metadata": {},
   "source": [
    "To test the implementation of the triangle function, we use a simple test case of f<sub>1</sub>(x)= 0, f<sub>2</sub>(x)= x+0, and f<sub>3</sub>(x)= -x+2, which should generate a triangle with corners (0, 0), (1, 1), and (2, 0).\n",
    "As shown by the coloring of the three corners, points exactly on the edges of the triangle are only considered to be inside the triangle if the line they're on is defined with <code>s = False<"
   ]
  },
  {
   "cell_type": "code",
   "execution_count": 8,
   "id": "868dfd3a",
   "metadata": {},
   "outputs": [
    {
     "data": {
      "image/png": "[encoded data removed]",
      "text/plain": [
       "<Figure size 432x288 with 1 Axes>"
      ]
     },
     "metadata": {
      "needs_background": "light"
     },
     "output_type": "display_data"
    }
   ],
   "source": [
    "triangle = [0, 0, True, 1, 0, False, -1, 2, False]\n",
    "\n",
    "grid_x, grid_y = np.meshgrid(np.linspace(-0.5, 2.5, 300), np.linspace(-1, 2, 300))\n",
    "grid_points = np.stack([grid_x.ravel(), grid_y.ravel()], axis=1)\n",
    "grid_image = [are_coords_in_triangle(coords, triangle) for coords in grid_points]\n",
    "\n",
    "plt.imshow(np.reshape(grid_image, (300, 300)), extent=[-0.5, 2.5, -1, 2], origin=\"lower\", cmap=\"binary\", alpha=0.5)\n",
    "plt.scatter(0, 0, marker='x', s=100, color=\"black\" if are_coords_in_triangle((0, 0), triangle) else \"red\")\n",
    "plt.scatter(1, 1, marker='x', s=100, color=\"black\" if are_coords_in_triangle((1, 1), triangle) else \"red\")\n",
    "plt.scatter(2, 0, marker='x', s=100, color=\"black\" if are_coords_in_triangle((2, 0), triangle) else \"red\")\n",
    "plt.show()"
   ]
  },
  {
   "cell_type": "markdown",
   "id": "3ea1103b",
   "metadata": {},
   "source": [
    "Next, we have to determine the decision boundaries for the sample data given by tiling the feature space.\n",
    "To simplify the process, the feature space will have a range of \\[0, 1\\]."
   ]
  },
  {
   "cell_type": "code",
   "execution_count": 9,
   "id": "e22ede10",
   "metadata": {},
   "outputs": [
    {
     "data": {
      "image/png": "[encoded data removed]",
      "text/plain": [
       "<Figure size 432x288 with 1 Axes>"
      ]
     },
     "metadata": {
      "needs_background": "light"
     },
     "output_type": "display_data"
    }
   ],
   "source": [
    "points = [\n",
    "    [0.1, 0.1, \"green\", \"o\"],\n",
    "    [0.25, 0.15, \"green\", \"o\"],\n",
    "    [0.17, 0.2, \"blue\", \"+\"],\n",
    "    [0.25, 0.4, \"blue\", \"+\"],\n",
    "    [0.12, 0.7, \"blue\", \"+\"],\n",
    "    [0.25, 0.98, \"red\", \"_\"],\n",
    "    [0.27, 0.97, \"red\", \"_\"],\n",
    "    [0.29, 0.95, \"red\", \"_\"],\n",
    "    [0.3, 0.99, \"red\", \"_\"],\n",
    "    [0.4, 0.4, \"green\", \"o\"],\n",
    "    [0.5, 0.5, \"green\", \"o\"],\n",
    "    [0.42, 0.55, \"green\", \"o\"],\n",
    "    [0.48, 0.87, \"green\", \"o\"],\n",
    "    [0.7, 0.8, \"green\", \"o\"],\n",
    "    [0.75, 0.95, \"green\", \"o\"],\n",
    "    [0.85, 0.85, \"green\", \"o\"],\n",
    "    [0.88, 0.9, \"green\", \"o\"],\n",
    "    [0.35, 0.17, \"red\", \"_\"],\n",
    "    [0.5, 0.1, \"red\", \"_\"],\n",
    "    [0.65, 0.2, \"red\", \"_\"],\n",
    "    [0.8, 0.23, \"red\", \"_\"],\n",
    "    [0.9, 0.2, \"red\", \"_\"],\n",
    "    [0.78, 0.15, \"red\", \"_\"],\n",
    "    [0.82, 0.5, \"blue\", \"+\"],\n",
    "    [0.9, 0.4, \"blue\", \"+\"],\n",
    "    [0.95, 0.6, \"blue\", \"+\"],\n",
    "]\n",
    "\n",
    "tiles = list()\n",
    "labels = list()\n",
    "\n",
    "labels.append(\"Green\")\n",
    "tiles.append([0.0, 0.0, True, 0.33, 0.1, False, -3.0, 1.0, False])\n",
    "labels.append(\"Blue\")\n",
    "tiles.append([0.33, 0.1, True, -999, 1.0, True, -2.0, 1.0, False])\n",
    "labels.append(\"Red\")\n",
    "tiles.append([-2.0, 1.0, True, 0.0, 1.0, False, 1.0, 0.5, True])\n",
    "labels.append(\"Green\")\n",
    "tiles.append([1.0, 0.5, False, 0.0, 0.67, True, 1.0, -0.2, True])\n",
    "labels.append(\"Green\")\n",
    "tiles.append([-2.0, 1.0, True, 0.0, 0.67, False, 1.0, -0.2, True])\n",
    "labels.append(\"Blue\")\n",
    "tiles.append([1.0, -0.2, False, -1.0, 1.2, True, 999, -999, True])\n",
    "labels.append(\"Red\")\n",
    "tiles.append([-1.0, 1.2, False, 1.0, -0.2, False, 0.0, 0.19, True])\n",
    "labels.append(\"Red\")\n",
    "tiles.append([-3.0, 1.0, True, 0.0, 0.19, False, 999, -999, True])\n",
    "\n",
    "for tile, label in zip(tiles, labels):\n",
    "    grid_x, grid_y = np.meshgrid(np.linspace(0, 1, 300), np.linspace(0, 1, 300))\n",
    "    grid_points = np.stack([grid_x.ravel(), grid_y.ravel()], axis=1)\n",
    "    grid_image = [are_coords_in_triangle(coords, tile) for coords in grid_points]\n",
    "\n",
    "    plt.imshow(np.reshape(grid_image, (300, 300)), extent=[0, 1, 0, 1], cmap=label + \"s\",\n",
    "               origin=\"lower\", vmin=0, vmax=1, alpha=0.3)\n",
    "\n",
    "for point in points:\n",
    "    plt.scatter(point[0], point[1], color=point[2], marker=point[3])\n",
    "\n",
    "plt.show()"
   ]
  },
  {
   "cell_type": "markdown",
   "id": "3a8ee5f4",
   "metadata": {},
   "source": [
    "With these regions in place, we can now turn them into our first layer of the neural network, and use the previously created binary neurons to build our second layer, and create our prediction function."
   ]
  },
  {
   "cell_type": "code",
   "execution_count": 10,
   "id": "2db1a70c",
   "metadata": {},
   "outputs": [],
   "source": [
    "first_layer = [Neuron(afunc=are_coords_in_triangle, params=tile) for tile in tiles]\n",
    "\n",
    "red_neuron = Neuron(afunc=masked_or, params=[label == \"Red\" for label in labels])\n",
    "green_neuron = Neuron(afunc=masked_or, params=[label == \"Green\" for label in labels])\n",
    "blue_neuron = Neuron(afunc=masked_or, params=[label == \"Blue\" for label in labels])\n",
    "second_layer = [red_neuron, green_neuron, blue_neuron]\n",
    "\n",
    "layers = [first_layer, second_layer]\n",
    "\n",
    "def predict_nn(data, layers):\n",
    "    for layer in layers:\n",
    "        data = [neuron.activate(data) for neuron in layer]\n",
    "    return data"
   ]
  },
  {
   "cell_type": "markdown",
   "id": "101b227c",
   "metadata": {},
   "source": [
    "The network should be able to recreate the labels and decision regions without any errors, meaning we should be able to recreate the previous plot using the network's predictions for coloring alone, and correctly predict the label of every training instance."
   ]
  },
  {
   "cell_type": "code",
   "execution_count": 15,
   "id": "4d98f643",
   "metadata": {},
   "outputs": [
    {
     "data": {
      "image/png": "[encoded data removed]",
      "text/plain": [
       "<Figure size 432x288 with 1 Axes>"
      ]
     },
     "metadata": {
      "needs_background": "light"
     },
     "output_type": "display_data"
    }
   ],
   "source": [
    "res = 300\n",
    "\n",
    "def rgba(rgb, a):\n",
    "    return [rgb[0], rgb[1], rgb[2], a]\n",
    "\n",
    "def label_to_marker(label):\n",
    "    if label == [1.0, 0.0, 0.0]:\n",
    "        return \"_\"\n",
    "    elif label == [0.0, 1.0, 0.0]:\n",
    "        return \"o\"\n",
    "    elif label == [0.0, 0.0, 1.0]:\n",
    "        return \"+\"\n",
    "    else:\n",
    "        return \"x\"\n",
    "\n",
    "grid_x, grid_y = np.meshgrid(np.linspace(0, 1, res), np.linspace(0, 1, res))\n",
    "grid_points = np.stack([grid_x.ravel(), grid_y.ravel()], axis=1)\n",
    "grid_image = [rgba(predict_nn(coords, layers), 0.2) for coords in grid_points]\n",
    "\n",
    "plt.imshow(np.reshape(grid_image, (res, res, 4)), extent=[0, 1, 0, 1],\n",
    "           origin=\"lower\", vmin=0, vmax=1)\n",
    "\n",
    "for point in points:\n",
    "    label = predict_nn(point[0:2], layers)\n",
    "    plt.scatter(point[0], point[1], color=label, marker=label_to_marker(label))\n",
    "\n",
    "label = predict_nn([0.35, 0.2], layers)\n",
    "plt.scatter(0.35, 0.2, color=label, marker=label_to_marker(label))\n",
    "\n",
    "plt.show()"
   ]
  },
  {
   "cell_type": "markdown",
   "id": "9b025bde",
   "metadata": {},
   "source": [
    "As demonstrated, the network is perfectly capable of reproducing the labels of the training data and the decision regions without failure.\n",
    "The only issue with the presented network is that it can be very challenging to cover the entire input parameter space with the chosen approach of tiling the space into triangles - The small region surrounding the coordinates (0.35, 0.2) (Marked with a black X on the plot), for example, does not have any neurons associated with it, resulting in a (0.0, 0.0, 0.0) prediction and a black shade in the plot.\n",
    "### Task 1.3: Generalization for higher-dimensional input\n",
    "The chosen approach heavily relies on the two-dimensionality of input data, as a higher-dimensional variant of the triangle tiling requires much more complex boundary planes instead of simple line equations, which makes it significantly harder to manually set them.\n",
    "\n",
    "A similar, but easier approach could use n-dimensional spheres instead of triangles, then the generalization for higher-dimensional input would be a lot more manageable, and could even be automated for any training data (Which would effectively result in a nearest-neighbor-like algorithm), allowing the implementation to be much more useful.\n",
    "Especially the automated implementation would yield a lot more input regions unassociated with any neurons in the first layer though, which would make it even more difficult to predict labels outside of the training set.\n",
    "\n",
    "Similarly, more complex label distributions make it significantly harder to properly fit neurons onto the training set, which results in a higher total number of neurons, and a huge decrease in runtime, because every neuron in every layer has to execute its activation function for every input data point. With the current (Relatively simple) network, the prediction of the 90k data point used to generate the plot above already took several seconds - although a more streamlined implementation making use of NumPy's array functions could probably help out with this issue, especially with the n-sphere approach."
   ]
  }
 ],
 "metadata": {
  "kernelspec": {
   "display_name": "Python 3",
   "language": "python",
   "name": "python3"
  },
  "language_info": {
   "codemirror_mode": {
    "name": "ipython",
    "version": 3
   },
   "file_extension": ".py",
   "mimetype": "text/x-python",
   "name": "python",
   "nbconvert_exporter": "python",
   "pygments_lexer": "ipython3",
   "version": "3.7.11"
  }
 },
 "nbformat": 4,
 "nbformat_minor": 5
}
