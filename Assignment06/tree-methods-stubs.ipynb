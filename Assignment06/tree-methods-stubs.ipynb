{
 "cells": [
  {
   "cell_type": "code",
   "execution_count": 34,
   "metadata": {},
   "outputs": [],
   "source": [
    "# import modules\n",
    "import numpy as np\n",
    "from sklearn.datasets import load_digits\n",
    "from abc import abstractmethod\n",
    "from sklearn.metrics import precision_score, recall_score, f1_score,accuracy_score"
   ]
  },
  {
   "attachments": {},
   "cell_type": "markdown",
   "metadata": {},
   "source": [
    "# Base Classes"
   ]
  },
  {
   "cell_type": "code",
   "execution_count": 18,
   "metadata": {},
   "outputs": [],
   "source": [
    "class Node:\n",
    "    '''\n",
    "      this class will later get the following attributes\n",
    "      all nodes:\n",
    "          features\n",
    "          responses\n",
    "      split nodes additionally:\n",
    "          left\n",
    "          right\n",
    "          split_index\n",
    "          threshold\n",
    "      leaf nodes additionally\n",
    "          prediction\n",
    "    '''\n",
    "        \n",
    "\n",
    "class Tree:\n",
    "    '''\n",
    "      base class for RegressionTree and ClassificationTree\n",
    "    '''\n",
    "    def __init__(self, n_min=10):\n",
    "        '''n_min: minimum required number of instances in leaf nodes\n",
    "        '''\n",
    "        self.n_min = n_min \n",
    "    \n",
    "    def predict(self, x):\n",
    "        ''' return the prediction for the given 1-D feature vector x\n",
    "        '''\n",
    "        # first find the leaf containing the 1-D feature vector x\n",
    "        node = self.root\n",
    "        while not hasattr(node, \"prediction\"):\n",
    "            j = node.split_index\n",
    "            if x[j] <= node.threshold:\n",
    "                node = node.left\n",
    "            else:\n",
    "                node = node.right\n",
    "        # finally, return the leaf's prediction\n",
    "        return node.prediction\n",
    "        \n",
    "    def train(self, features, responses, D_try=None):\n",
    "        '''\n",
    "        features: the feature matrix of the training set\n",
    "        response: the vector of responses\n",
    "        '''\n",
    "        N, D = features.shape\n",
    "        assert(responses.shape[0] == N)\n",
    "\n",
    "        if D_try is None:\n",
    "            D_try = int(np.sqrt(D)) # number of features to consider for each split decision\n",
    "        \n",
    "        # initialize the root node\n",
    "        self.root = Node()\n",
    "        self.root.features  = features\n",
    "        self.root.responses = responses\n",
    "\n",
    "        # build the tree\n",
    "        stack = [self.root]\n",
    "        while len(stack):\n",
    "            node = stack.pop()\n",
    "            active_indices = self.select_active_indices(D, D_try)\n",
    "            left, right = self.make_split_node(node, active_indices)\n",
    "            if left is None: # no split found\n",
    "                self.make_leaf_node(node)\n",
    "            else:\n",
    "                stack.append(left)\n",
    "                stack.append(right)\n",
    "    \n",
    "    def make_split_node(self, node, indices):\n",
    "        \n",
    "        if np.unique(node.responses).shape[0] == 1:\n",
    "            return None, None\n",
    "            \n",
    "            # find best feature j_min (among 'indices') and best threshold t_min for the split\n",
    "        l_min = float('inf')  # upper bound for the loss, later the loss of the best split\n",
    "        j_min, t_min = None, None\n",
    "\n",
    "        for j in indices:\n",
    "            thresholds = self.find_thresholds(node, j)\n",
    "\n",
    "            # compute loss for each threshold\n",
    "            for t in thresholds:\n",
    "                loss = self.compute_loss_for_split(node, j, t)\n",
    "\n",
    "                # remember the best split so far \n",
    "                # (the condition is never True when loss = float('inf') )\n",
    "                if loss < l_min:\n",
    "                    l_min = loss\n",
    "                    j_min = j\n",
    "                    t_min = t\n",
    "\n",
    "        if j_min is None: # no split found\n",
    "            return None, None\n",
    "\n",
    "        # create children for the best split\n",
    "        left, right = self.make_children(node, j_min, t_min)\n",
    "\n",
    "        # turn the current 'node' into a split node\n",
    "        # (store children and split condition)\n",
    "        node.left = left\n",
    "        node.right = right\n",
    "        node.split_index = j_min\n",
    "        node.threshold = t_min\n",
    "        \n",
    "        # return the children (to be placed on the stack)\n",
    "        return left, right\n",
    "\n",
    "    \n",
    "    def select_active_indices(self, D, D_try):\n",
    "        ''' return a 1-D array with D_try randomly selected indices from 0...(D-1).\n",
    "        '''\n",
    "        return np.random.choice(D, D_try, replace=False)\n",
    "        \n",
    "    def find_thresholds(self, node, j):\n",
    "        ''' return: a 1-D array with all possible thresholds along feature j\n",
    "        '''\n",
    "        feature_values = np.unique(node.features[:, j])\n",
    "        return (feature_values[:-1] + feature_values[1:]) / 2\n",
    "        \n",
    "    def make_children(self, node, j, t):\n",
    "        ''' execute the split in feature j at threshold t\n",
    "        \n",
    "            return: left, right -- the children of the split, with features and responses\n",
    "                                   properly assigned according to the split\n",
    "        '''\n",
    "        left = Node()\n",
    "        right = Node()\n",
    "\n",
    "        mask = node.features[:, j] <= t\n",
    "        left.features, left.responses = node.features[mask], node.responses[mask]\n",
    "        right.features, right.responses = node.features[~mask], node.responses[~mask]\n",
    "        return left, right\n",
    "        \n",
    "    @abstractmethod\n",
    "    def make_leaf_node(self, node):\n",
    "        ''' Turn node into a leaf by computing and setting `node.prediction`\n",
    "        \n",
    "            (must be implemented in a subclass)\n",
    "        '''\n",
    "        raise NotImplementedError(\"make_leaf_node() must be implemented in a subclass.\")\n",
    "        \n",
    "    @abstractmethod\n",
    "    def compute_loss_for_split(self, node, j, t):\n",
    "        ''' Return the resulting loss when the data are split along feature j at threshold t.\n",
    "            If the split is not admissible, return float('inf').\n",
    "        \n",
    "            (must be implemented in a subclass)\n",
    "        '''\n",
    "        raise NotImplementedError(\"compute_loss_for_split() must be implemented in a subclass.\")\n"
   ]
  },
  {
   "attachments": {},
   "cell_type": "markdown",
   "metadata": {},
   "source": [
    "# Regression Tree"
   ]
  },
  {
   "cell_type": "code",
   "execution_count": 5,
   "metadata": {},
   "outputs": [],
   "source": [
    "class RegressionTree(Tree):\n",
    "    def __init__(self, n_min=10):\n",
    "        super(RegressionTree, self).__init__(n_min)\n",
    "        \n",
    "    def compute_loss_for_split(self, node, j, t):\n",
    "        # return the loss if we would split the instance along feature j at threshold t\n",
    "        # or float('inf') if there is no feasible split\n",
    "        ... # your code here\n",
    "        mask = node.features[:, j] <= t\n",
    "        left, right = node.responses[mask], node.responses[~mask]\n",
    "\n",
    "        if len(left) < self.n_min or len(right) < self.n_min:\n",
    "            return float('inf')\n",
    "        \n",
    "        # squared loss\n",
    "        return np.sum((left - np.mean(left)) ** 2) + np.sum((right - np.mean(right)) ** 2)\n",
    "        \n",
    "        #raise NotImplementedError(\"compute_loss_for_split(): remove this exception after adding your code above.\")\n",
    "        \n",
    "    def make_leaf_node(self, node):\n",
    "        # turn node into a leaf node by computing `node.prediction`\n",
    "        # (note: the prediction of a regression tree is a real number)\n",
    "        node.prediction = np.mean(node.responses) # your code here\n",
    "        #raise NotImplementedError(\"make_leaf_node(): remove this exception after adding your code above.\")\n"
   ]
  },
  {
   "attachments": {},
   "cell_type": "markdown",
   "metadata": {},
   "source": [
    "# Classification Tree"
   ]
  },
  {
   "cell_type": "code",
   "execution_count": 27,
   "metadata": {
    "tags": []
   },
   "outputs": [],
   "source": [
    "class ClassificationTree(Tree):\n",
    "    '''implement classification tree so that it can handle arbitrary many classes\n",
    "    '''\n",
    "    \n",
    "    def __init__(self, classes, n_min=10):\n",
    "        ''' classes: a 1-D array with the permitted class labels\n",
    "            n_min: minimum required number of instances in leaf nodes\n",
    "        '''\n",
    "        super(ClassificationTree, self).__init__(n_min)\n",
    "        self.classes = classes\n",
    "        \n",
    "    def compute_loss_for_split(self, node, j, t):\n",
    "        # return the loss if we would split the instance along feature j at threshold t\n",
    "        # or float('inf') if there is no feasible split\n",
    "        mask = node.features[:, j] <= t\n",
    "        left, right = node.responses[mask], node.responses[~mask]\n",
    "\n",
    "        if len(left) < self.n_min or len(right) < self.n_min:\n",
    "            return float('inf')\n",
    "        \n",
    "        left_impurity = self.gini_impurity(left)\n",
    "        right_impurity = self.gini_impurity(right)\n",
    "\n",
    "        return len(left) / len(node.responses) * left_impurity + len(right) / len(node.responses) * right_impurity\n",
    "    \n",
    "        \n",
    "        # Gini impurity calculation\n",
    "    def gini_impurity(self,responses):\n",
    "        \n",
    "        \n",
    "        impurity = 1\n",
    "        class_counts = np.bincount(responses, minlength=len(self.classes))\n",
    "        for count in class_counts:\n",
    "            proba = count / len(responses)\n",
    "            impurity -= proba ** 2\n",
    "        return impurity\n",
    "\n",
    "        left_impurity = gini_impurity(left)\n",
    "        right_impurity = gini_impurity(right)\n",
    "        \n",
    "        return len(left) / len(node.responses) * left_impurity + len(right) / len(node.responses) * right_impurity\n",
    "\n",
    "        \n",
    "    def make_leaf_node(self, node):\n",
    "        # turn node into a leaf node by computing `node.prediction`\n",
    "        # (note: the prediction of a classification tree is a class label)\n",
    "        node.prediction = np.argmax(np.bincount(node.responses, minlength=len(self.classes)))\n",
    "        "
   ]
  },
  {
   "attachments": {},
   "cell_type": "markdown",
   "metadata": {},
   "source": [
    "# Evaluation of Regression and Classification Tree"
   ]
  },
  {
   "cell_type": "code",
   "execution_count": null,
   "metadata": {},
   "outputs": [],
   "source": []
  },
  {
   "cell_type": "code",
   "execution_count": 29,
   "metadata": {},
   "outputs": [],
   "source": [
    "from sklearn.metrics import confusion_matrix\n",
    "from sklearn.model_selection import KFold\n",
    "import matplotlib.pyplot as plt\n",
    "import seaborn as sns\n",
    "from sklearn import preprocessing"
   ]
  },
  {
   "cell_type": "code",
   "execution_count": 60,
   "metadata": {
    "tags": []
   },
   "outputs": [
    {
     "name": "stdout",
     "output_type": "stream",
     "text": [
      "(1797, 64) (1797,)\n"
     ]
    }
   ],
   "source": [
    "# read and prepare the digits data and extract 3s and 9s\n",
    "digits = load_digits()\n",
    "print(digits.data.shape, digits.target.shape)\n",
    "\n",
    "instances = (digits.target == 3) | (digits.target == 9)\n",
    "features = digits.data[instances, :]\n",
    "labels = digits.target[instances]\n",
    "\n",
    "# for regression, we use labels +1 and -1\n",
    "responses = np.array([1 if l == 3 else -1 for l in labels])\n",
    "\n",
    "assert(features.shape[0] == labels.shape[0] == responses.shape[0])"
   ]
  },
  {
   "cell_type": "code",
   "execution_count": null,
   "metadata": {
    "tags": []
   },
   "outputs": [],
   "source": [
    "# perform 5-fold cross-validation (see ex01) with responses +1 and -1 (for 3s and 9s)\n",
    "# using RegressionTree()\n",
    "# and comment on your results\n",
    "... # your code here"
   ]
  },
  {
   "cell_type": "code",
   "execution_count": 35,
   "metadata": {},
   "outputs": [
    {
     "name": "stdout",
     "output_type": "stream",
     "text": [
      "Average accuracy: 0.859779299847793\n",
      "Average precision: 0.9189016018306637\n",
      "Average recall: 0.8088057288057288\n",
      "Average F1 score: 0.8335829279080054\n"
     ]
    }
   ],
   "source": [
    "# perform 5-fold cross-validation with labels 3 and 9\n",
    "# using ClassificationTree(classes=np.unique(labels))\n",
    "# and comment on your results\n",
    "# instantiate the KFold class\n",
    "kf = KFold(n_splits=5)\n",
    "\n",
    "# create a list to store performance metrics for each fold\n",
    "accuracies = []\n",
    "precisions = []\n",
    "recalls = []\n",
    "f1_scores = []\n",
    "\n",
    "# perform 5-fold cross-validation\n",
    "for train_index, test_index in kf.split(features):\n",
    "    # split the data into training and test sets\n",
    "    X_train, X_test = features[train_index], features[test_index]\n",
    "    y_train, y_test = responses[train_index], responses[test_index]\n",
    "    le = preprocessing.LabelEncoder()\n",
    "    y_train = le.fit_transform(y_train)\n",
    "    y_test = le.transform(y_test)\n",
    "    \n",
    "\n",
    "    # create a \"Classification Tree\"\n",
    "    clf = ClassificationTree(classes=np.unique(labels))\n",
    "    clf.train(X_train, y_train)\n",
    "\n",
    "    # make predictions\n",
    "    y_pred = [clf.predict(x) for x in X_test]\n",
    "\n",
    "    # compute performance metrics\n",
    "    accuracy = accuracy_score(y_test, y_pred)\n",
    "    precision = precision_score(y_test, y_pred, pos_label=1) # assuming 1 is the positive class\n",
    "    recall = recall_score(y_test, y_pred, pos_label=1)\n",
    "    f1 = f1_score(y_test, y_pred, pos_label=1)\n",
    "\n",
    "    # store performance metrics\n",
    "    accuracies.append(accuracy)\n",
    "    precisions.append(precision)\n",
    "    recalls.append(recall)\n",
    "    f1_scores.append(f1)\n",
    "\n",
    "# print average performance metrics\n",
    "print('Average accuracy:', np.mean(accuracies))\n",
    "print('Average precision:', np.mean(precisions))\n",
    "print('Average recall:', np.mean(recalls))\n",
    "print('Average F1 score:', np.mean(f1_scores))"
   ]
  },
  {
   "attachments": {},
   "cell_type": "markdown",
   "metadata": {},
   "source": [
    "# Regression and Classification Forest"
   ]
  },
  {
   "cell_type": "code",
   "execution_count": 36,
   "metadata": {},
   "outputs": [],
   "source": [
    "def bootstrap_sampling(features, responses):\n",
    "    '''return a bootstrap sample of features and responses\n",
    "    '''\n",
    "    # determine the number of data points\n",
    "    num_data_points = len(features)\n",
    "    \n",
    "    # generate a set of random indices with replacement\n",
    "    bootstrap_indices = np.random.choice(range(num_data_points), size=num_data_points, replace=True)\n",
    "    \n",
    "    # use these indices to create a bootstrap sample of the original dataset\n",
    "    bootstrap_features = features[bootstrap_indices]\n",
    "    bootstrap_responses = responses[bootstrap_indices]\n",
    "\n",
    "    return bootstrap_features, bootstrap_responses"
   ]
  },
  {
   "cell_type": "code",
   "execution_count": null,
   "metadata": {
    "tags": []
   },
   "outputs": [],
   "source": [
    "class RegressionForest():\n",
    "    def __init__(self, n_trees, n_min=10):\n",
    "        # create ensemble\n",
    "        self.trees = [RegressionTree(n_min) for i in range(n_trees)]\n",
    "    \n",
    "    def train(self, features, responses):\n",
    "        for tree in self.trees:\n",
    "            boostrap_features, bootstrap_responses = bootstrap_sampling(features, responses)\n",
    "            tree.train(boostrap_features, bootstrap_responses)\n",
    "\n",
    "    def predict(self, x):\n",
    "        # compute the response of the ensemble from the individual responses and return it\n",
    "        ... # your code here\n",
    "        raise NotImplementedError(\"predict(): remove this exception after adding your code above.\")"
   ]
  },
  {
   "cell_type": "code",
   "execution_count": 37,
   "metadata": {
    "tags": []
   },
   "outputs": [],
   "source": [
    "class ClassificationForest():\n",
    "    def __init__(self, n_trees, classes, n_min=1):\n",
    "        self.trees = [ClassificationTree(classes, n_min) for i in range(n_trees)]\n",
    "        self.classes = classes\n",
    "    \n",
    "    def train(self, features, responses):\n",
    "        for tree in self.trees:\n",
    "            boostrap_features, bootstrap_responses = bootstrap_sampling(features, responses)\n",
    "            tree.train(boostrap_features, bootstrap_responses)\n",
    "\n",
    "    def predict(self, x):\n",
    "        # compute the response of the ensemble from the individual responses and return it\n",
    "        return np.argmax(np.bincount([tree.predict(x) for tree in self.trees], minlength=len(self.classes)))"
   ]
  },
  {
   "attachments": {},
   "cell_type": "markdown",
   "metadata": {},
   "source": [
    "# Evaluation of Regression and Decision Forest"
   ]
  },
  {
   "cell_type": "code",
   "execution_count": null,
   "metadata": {
    "tags": []
   },
   "outputs": [],
   "source": [
    "# perform 5-fold cross-validation (see ex01) with responses +1 and -1 (for 3s and 9s)\n",
    "# using RegressionForest(n_trees=10)\n",
    "# and comment on your results\n",
    "... # your code here"
   ]
  },
  {
   "cell_type": "code",
   "execution_count": 93,
   "metadata": {},
   "outputs": [],
   "source": [
    "#custom DecisionForest class\n",
    "class DecisionForest:\n",
    "    def __init__(self, n_trees, classes):\n",
    "        self.n_trees = n_trees\n",
    "        self.classes = classes\n",
    "\n",
    "    def fit(self, features, responses):\n",
    "        self.trees = []\n",
    "        N, _ = features.shape\n",
    "        for _ in range(self.n_trees):\n",
    "            # Create a bootstrap sample of the data\n",
    "            bootstrap_indices = np.random.choice(N, N, replace=True)\n",
    "            bootstrap_features = features[bootstrap_indices]\n",
    "            bootstrap_responses = responses[bootstrap_indices]\n",
    "            # Create a new tree using the bootstrap sample\n",
    "            tree = ClassificationTree(classes=self.classes)\n",
    "            tree.train(bootstrap_features, bootstrap_responses)\n",
    "            # Add it to the forest\n",
    "            self.trees.append(tree)\n",
    "\n",
    "    def predict(self, X):\n",
    "        predictions = np.array([tree.predict(x) for tree in self.trees for x in X])\n",
    "        predictions = predictions.reshape((self.n_trees, X.shape[0])).T\n",
    "        return np.array([np.bincount(p).argmax() for p in predictions])\n"
   ]
  },
  {
   "cell_type": "code",
   "execution_count": 88,
   "metadata": {},
   "outputs": [
    {
     "name": "stdout",
     "output_type": "stream",
     "text": [
      "Cross-validation accuracies: [0.9178082191780822, 0.8767123287671232, 0.9726027397260274, 0.9861111111111112, 0.9583333333333334]\n",
      "Mean cross-validation accuracy: 0.9423135464231354\n"
     ]
    }
   ],
   "source": [
    "# perform 5-fold cross-validation with labels 3 and 9\n",
    "# using DecisionForest(n_trees=10, classes=np.unique(labels))\n",
    "# and comment on your results\n",
    "# Create a DecisionForest instance\n",
    "from sklearn.model_selection import StratifiedKFold\n",
    "from sklearn.metrics import accuracy_score\n",
    "\n",
    "# Assuming `features` is your feature matrix and `labels` are your labels\n",
    "\n",
    "# Filter data to include only labels 3 and 9\n",
    "mask = (labels == 3) | (labels == 9)\n",
    "filtered_features = features[mask]\n",
    "filtered_labels = labels[mask]\n",
    "\n",
    "# Initialize the 5-fold cross-validator\n",
    "cv = StratifiedKFold(n_splits=5)\n",
    "\n",
    "# Initialize the forest\n",
    "forest = DecisionForest(n_trees=10, classes=np.unique(filtered_labels))\n",
    "\n",
    "# Cross-validation\n",
    "accuracies = []\n",
    "for train_index, test_index in cv.split(filtered_features, filtered_labels):\n",
    "    X_train, X_test = filtered_features[train_index], filtered_features[test_index]\n",
    "    y_train, y_test = filtered_labels[train_index], filtered_labels[test_index]\n",
    "    \n",
    "    # Train the DecisionForest\n",
    "    forest.fit(X_train, y_train)\n",
    "    \n",
    "    # Make predictions on the test set\n",
    "    y_pred = forest.predict(X_test)\n",
    "\n",
    "    # Compute accuracy and append to list\n",
    "    accuracies.append(accuracy_score(y_test, y_pred))\n",
    "\n",
    "print(f\"Cross-validation accuracies: {accuracies}\")\n",
    "print(f\"Mean cross-validation accuracy: {np.mean(accuracies)}\")"
   ]
  },
  {
   "attachments": {},
   "cell_type": "markdown",
   "metadata": {},
   "source": [
    "# Multi-class Classification Forest"
   ]
  },
  {
   "cell_type": "code",
   "execution_count": null,
   "metadata": {},
   "outputs": [],
   "source": [
    "# Train DecisionForest(n_trees=10, classes=np.unique(digits.target))\n",
    "# for all 10 digits simultaneously.\n",
    "# Compute and plot the confusion matrix after 5-fold cross-validation and comment on your results.\n",
    "# Plot the confusion matrix\n"
   ]
  },
  {
   "cell_type": "code",
   "execution_count": 89,
   "metadata": {},
   "outputs": [
    {
     "data": {
      "image/png": "[encoded data removed]",
      "text/plain": [
       "<Figure size 1000x800 with 2 Axes>"
      ]
     },
     "metadata": {},
     "output_type": "display_data"
    }
   ],
   "source": [
    "from sklearn.model_selection import StratifiedKFold\n",
    "from sklearn.metrics import confusion_matrix, accuracy_score\n",
    "import matplotlib.pyplot as plt\n",
    "import seaborn as sns\n",
    "from sklearn.datasets import load_digits\n",
    "\n",
    "# Load the digits dataset\n",
    "digits = load_digits()\n",
    "\n",
    "# Initialize the 5-fold cross-validator\n",
    "cv = StratifiedKFold(n_splits=5)\n",
    "\n",
    "# Initialize the forest with all unique labels\n",
    "forest = DecisionForest(n_trees=10, classes=np.unique(digits.target))\n",
    "\n",
    "# Prepare empty confusion matrix\n",
    "conf_mat = np.zeros((len(forest.classes), len(forest.classes)))\n",
    "\n",
    "# Cross-validation\n",
    "for train_index, test_index in cv.split(digits.data, digits.target):\n",
    "    X_train, X_test = digits.data[train_index], digits.data[test_index]\n",
    "    y_train, y_test = digits.target[train_index], digits.target[test_index]\n",
    "    \n",
    "    # Train the DecisionForest\n",
    "    forest.fit(X_train, y_train)\n",
    "    \n",
    "    # Make predictions on the test set\n",
    "    y_pred = forest.predict(X_test)\n",
    "\n",
    "    # Update confusion matrix\n",
    "    conf_mat += confusion_matrix(y_test, y_pred, labels=forest.classes)\n",
    "\n",
    "# Normalize confusion matrix\n",
    "conf_mat /= conf_mat.sum(axis=1, keepdims=True)\n",
    "\n",
    "# Plot confusion matrix\n",
    "plt.figure(figsize=(10, 8))\n",
    "sns.heatmap(conf_mat, annot=True, cmap='Blues', xticklabels=forest.classes, yticklabels=forest.classes)\n",
    "plt.xlabel('Predicted label')\n",
    "plt.ylabel('True label')\n",
    "plt.title('Confusion matrix after 5-fold cross-validation')\n",
    "plt.show()\n"
   ]
  },
  {
   "cell_type": "code",
   "execution_count": 92,
   "metadata": {},
   "outputs": [
    {
     "name": "stdout",
     "output_type": "stream",
     "text": [
      "Accuracy: 87.90%\n",
      "F1 Score: 0.86\n"
     ]
    }
   ],
   "source": [
    "\n",
    "# Compute the accuracy\n",
    "accuracy = np.trace(conf_mat) / np.sum(conf_mat)\n",
    "print(\"Accuracy: {:.2f}%\".format(accuracy * 100))\n",
    "f1 = f1_score(y_test, y_pred, average='weighted')\n",
    "print(\"F1 Score: {:.2f}\".format(f1))"
   ]
  },
  {
   "attachments": {},
   "cell_type": "markdown",
   "metadata": {},
   "source": [
    "# Observations:\n",
    "    -Identify correctly classified digits: Looking at the diagonal elements (top-left to bottom-right) of the matrix. These values represent the number of instances where the true digit and the predicted digit match. we observe Higher values along the diagonal indicate accurate predictions for each digit.\n",
    "    -Analyze misclassifications: Focusing on the off-diagonal elements of the matrix. These values represent instances where the true digit and the predicted digit do not match. Examining the magnitude of these values, as they indicate the frequency of misclassifications for specific digit pairs, its observed that the 8 has been missclassified as 1 more and even 9 has been misclassified as 3 in some cases and 5 as 9.\n",
    "    -The model correctly predicted the label correct appox 88% of the time.F1 score of 0.86 means that the model has a relatively high accuracy, with a good balance between precision and recall. It suggests that the model is successful in identifying the correct digit most of the time (86% of the time if we interpret it loosely).\n",
    "\n",
    "\n"
   ]
  },
  {
   "attachments": {},
   "cell_type": "markdown",
   "metadata": {},
   "source": [
    "# One-against-the-rest classification with RegressionForest"
   ]
  },
  {
   "cell_type": "code",
   "execution_count": null,
   "metadata": {},
   "outputs": [],
   "source": [
    "# Train ten one-against-the-rest regression forests for the 10 digits.\n",
    "# Make sure that all training sets are balanced between the current digit and the rest.\n",
    "# Assign test instances to the digit with highest score, \n",
    "# or to \"unknown\" if all scores are negative.\n",
    "# Compute and plot the confusion matrix after 5-fold cross-validation and comment on your results.\n",
    "... # your code here"
   ]
  }
 ],
 "metadata": {
  "kernelspec": {
   "display_name": "Python 3",
   "language": "python",
   "name": "python3"
  },
  "language_info": {
   "codemirror_mode": {
    "name": "ipython",
    "version": 3
   },
   "file_extension": ".py",
   "mimetype": "text/x-python",
   "name": "python",
   "nbconvert_exporter": "python",
   "pygments_lexer": "ipython3",
   "version": "3.9.12"
  }
 },
 "nbformat": 4,
 "nbformat_minor": 4
}
